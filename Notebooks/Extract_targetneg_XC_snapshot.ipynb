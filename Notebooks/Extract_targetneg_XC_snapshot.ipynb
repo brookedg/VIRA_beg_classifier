{
 "cells": [
  {
   "cell_type": "markdown",
   "id": "40dc3bb5",
   "metadata": {},
   "source": [
    "# Extract clips from Xenocanto Snapshot (including negatives)"
   ]
  },
  {
   "cell_type": "markdown",
   "id": "2040caf9",
   "metadata": {},
   "source": [
    "env opso12 (Python 3.11.14)\\\n",
    "Back in the bioacousitcs-cookbook you can find a version of this notebook that works with a lat/long filter for negatives.\\\n",
    " The notebook below has been modified (with Santiagos help) to extract negative clips based on specific target species eBird codes. You can also create a target (positive) dataset in this notebook, but if you already hand annotated your positives, just ignore the target_df at the end."
   ]
  },
  {
   "cell_type": "code",
   "execution_count": null,
   "id": "bda8149a",
   "metadata": {},
   "outputs": [],
   "source": [
    "from pathlib import Path\n",
    "from tqdm.autonotebook import tqdm\n",
    "import pandas as pd\n",
    "import datasets\n",
    "from pathlib import Path\n",
    "from opensoundscape import annotations"
   ]
  },
  {
   "cell_type": "code",
   "execution_count": null,
   "id": "63652b74",
   "metadata": {},
   "outputs": [],
   "source": [
    "\n",
    "# Make sure to dont change this, otherwise you will donwload the whole dataset again\n",
    "cache_dir = \"/media/kiwi/datasets/annotated/xeno_canto_snapshot/data_cache\" \n",
    "ds = datasets.load_dataset(\n",
    "    \"DBD-research-group/BirdSet\",\n",
    "    \"XCL\",\n",
    "    cache_dir=cache_dir, \n",
    ")\n",
    "t = ds[\"train\"]\n",
    "\n",
    "print(\"The number of recordings in the dataset is\", len(t))"
   ]
  },
  {
   "cell_type": "markdown",
   "id": "9eed450a",
   "metadata": {},
   "source": [
    "## Change first line depending of your target species"
   ]
  },
  {
   "cell_type": "code",
   "execution_count": null,
   "id": "fc85d1c7",
   "metadata": {},
   "outputs": [],
   "source": [
    "target=\"Virginia Rail\"  # Replace with your target species name\n",
    "\n",
    "# Read the file line by line and skip rows that cause decode errors\n",
    "import io\n",
    "\n",
    "#Clements taxonomy available at: https://www.birds.cornell.edu/clementschecklist/wp-content/uploads/2024/10/Clements-v2024-October-2024-rev.xlsx\n",
    "ebird_path = \"/media/auk/projects/srg/Kitzes_projects/ECOO53_LaSelva_Loca/ebird_codes.txt\"\n",
    "good_lines = []\n",
    "with open(ebird_path, \"rb\") as f:\n",
    "    for line in f:\n",
    "        try:\n",
    "            good_lines.append(line.decode(\"utf-8\"))\n",
    "        except UnicodeDecodeError:\n",
    "            continue\n",
    "\n",
    "ebird_df = pd.read_csv(io.StringIO(''.join(good_lines)), sep=\"\\t\")\n",
    "target_row = ebird_df[ebird_df[\"English name\"] == target]\n",
    "target_row"
   ]
  },
  {
   "cell_type": "markdown",
   "id": "7804ebe9",
   "metadata": {},
   "source": [
    "## Subset snapshot to recordings with your target species"
   ]
  },
  {
   "cell_type": "code",
   "execution_count": null,
   "id": "471bb367",
   "metadata": {},
   "outputs": [],
   "source": [
    "# Make a new dataset object with just your target species recordings\n",
    "target_ebird_code=str(target_row['species_code'].values[0])\n",
    "label_feature = t.features[\"ebird_code\"]\n",
    "\n",
    "farewell_int = label_feature.str2int(target_ebird_code) \n",
    "filtered = t.filter(lambda example: example[\"ebird_code\"] == farewell_int)"
   ]
  },
  {
   "cell_type": "code",
   "execution_count": null,
   "id": "356edbc9",
   "metadata": {},
   "outputs": [],
   "source": [
    "# Access an example\n",
    "example = filtered[1]\n",
    "\n",
    "import librosa\n",
    "import librosa.display\n",
    "import matplotlib.pyplot as plt\n",
    "import numpy as np\n",
    "\n",
    "# Load the audio from the .ogg file\n",
    "audio_path = example[\"filepath\"]\n",
    "y, sr = librosa.load(audio_path, sr=None)\n",
    "\n",
    "# Calculate the spectrogram (mel or linear, up to you; use linear here)\n",
    "S = librosa.stft(y, n_fft=1024, hop_length=256)\n",
    "S_db = librosa.amplitude_to_db(np.abs(S), ref=np.max)\n",
    "\n",
    "# Set up the axes for time for drawing detected_events and peaks\n",
    "duration = librosa.get_duration(y=y, sr=sr)\n",
    "times = librosa.frames_to_time(np.arange(S_db.shape[1]), sr=sr, hop_length=256, n_fft=1024)\n",
    "\n",
    "fig, ax = plt.subplots(figsize=(12, 4))\n",
    "img = librosa.display.specshow(S_db, sr=sr, hop_length=256, x_axis='time', y_axis='hz', ax=ax)\n",
    "plt.colorbar(img, ax=ax, format=\"%+2.0f dB\")\n",
    "ax.set_title(\"Spectrogram with detected events and peaks\")\n",
    "\n",
    "# Draw rectangles for each detected event [start, end]\n",
    "for ev in example.get(\"detected_events\", []):\n",
    "    start, end = ev\n",
    "    ax.add_patch(\n",
    "        plt.Rectangle(\n",
    "            (start, 0),  # (x,y)\n",
    "            end - start,\n",
    "            sr // 2,    # full frequency range (or np.max(S_db.shape[0]))\n",
    "            color='lime',\n",
    "            linewidth=2,\n",
    "            fill=False\n",
    "        )\n",
    "    )\n",
    "\n",
    "# Draw vertical lines for each peak\n",
    "for peak in example.get(\"peaks\", []):\n",
    "    ax.axvline(peak, color='yellow', linestyle='--', linewidth=2)\n",
    "\n",
    "plt.tight_layout()\n",
    "plt.show()\n",
    "\n",
    "print(example[\"detected_events\"])\n",
    "\n",
    "print(example[\"peaks\"])\n",
    "from IPython.display import Audio, display\n",
    "\n",
    "display(Audio(example['filepath']))"
   ]
  },
  {
   "cell_type": "markdown",
   "id": "70cdc0ac",
   "metadata": {},
   "source": [
    "## Parameters you need to set before calling the audio files"
   ]
  },
  {
   "cell_type": "code",
   "execution_count": null,
   "id": "d1d1961f",
   "metadata": {},
   "outputs": [],
   "source": [
    "#  TARGET SPECIES\n",
    "# Duration of clips to extract\n",
    "clip_duration = 1.5 #vira beg is .5 seconds\n",
    "\n",
    "# Maximum number of events to extract (based on peaks)\n",
    "max_events = 20\n",
    "\n",
    "#  NEGATIVE SPECIES\n",
    "# Maximum number of events to extract (based on peaks)\n",
    "neg_max_events = 15\n",
    "\n",
    "target_negatives = [\"sora\", \"kinrai4\", \"y00475\", \"comgal1\", \"pibgre\", \"sonspa\", \"swaspa\", \"wilfly\", \"sancra\", \"rewbla\", \"marwre\", \"yelwar1\", \"grycat\", \"eawpew\", \"easkin\", \"reevir1\", \"bkcchi\", \"easpho\", \"killde\", \"reshaw\", \"rusbla\", \"comgra\", \"cedwax\", \"comyel\", \"sposan\", \"ribgul\", \"horgre\", \"amhgul1\", \"blujay\", \"rethaw\"]  # Replace with actual eBird codes for negative species"
   ]
  },
  {
   "cell_type": "code",
   "execution_count": null,
   "id": "33c3cdca",
   "metadata": {},
   "outputs": [],
   "source": [
    "target = []\n",
    "negatives = []\n",
    "print(\"Converting target_negatives to integers...\")\n",
    "\n",
    "# First convert all target_negatives to integers using the label_feature\n",
    "target_negatives_int = [label_feature.str2int(code) for code in target_negatives]\n",
    "print(f\"Original target negatives: {target_negatives}\")\n",
    "print(f\"Converted to integers: {target_negatives_int}\")\n"
   ]
  },
  {
   "cell_type": "code",
   "execution_count": null,
   "id": "b1edcd7e",
   "metadata": {},
   "outputs": [],
   "source": [
    "\n",
    "for i in tqdm(range(len(t))):\n",
    "    file = t[i]\n",
    "    current_code = file['ebird_code']\n",
    "    \n",
    "    if file['ebird_code'] == farewell_int:\n",
    "        detected_events = file[\"detected_events\"].copy()\n",
    "\n",
    "        if len(detected_events) < 1:\n",
    "            detected_events = [[0, clip_duration]]\n",
    "        elif len(detected_events) > max_events:\n",
    "            detected_events = file[\"detected_events\"][:max_events]\n",
    "\n",
    "        for j, (start, end) in enumerate(detected_events):\n",
    "            record = {\n",
    "                \"file\": file[\"filepath\"],\n",
    "                \"start_time\": start,\n",
    "                \"annotation\": file[\"ebird_code\"],\n",
    "                \"quality\": file['quality'],\n",
    "            }\n",
    "            target.append(record)\n",
    "\n",
    "    elif current_code in target_negatives_int:  # Check against converted integers\n",
    "        detected_events = file[\"detected_events\"].copy()\n",
    "        \n",
    "        if len(detected_events) < 1:\n",
    "            detected_events = [[0, clip_duration]]\n",
    "        elif len(detected_events) > 3:\n",
    "            detected_events = file[\"detected_events\"][:neg_max_events]\n",
    "\n",
    "        for j, (start, end) in enumerate(detected_events):\n",
    "            record_other = {\n",
    "                \"file\": file[\"filepath\"],\n",
    "                \"start_time\": start,\n",
    "                \"annotation\": file[\"ebird_code\"],\n",
    "                \"quality\": file['quality'],\n",
    "            }\n",
    "            negatives.append(record_other)\n",
    "\n",
    "print(f\"Total target examples collected: {len(target)}\")\n",
    "print(f\"Total negative examples collected: {len(negatives)}\")"
   ]
  },
  {
   "cell_type": "code",
   "execution_count": null,
   "id": "0b2784b6",
   "metadata": {},
   "outputs": [],
   "source": [
    "target_df = pd.DataFrame(target)\n",
    "negative_df = pd.DataFrame(negatives)\n",
    "\n",
    "# convert integer annotation to list of one annotation per row\n",
    "# this is the format used by annotations.categorical_to_multi_hot\n",
    "target_df[\"annotation_list\"] = [[x] for x in target_df[\"annotation\"]]\n",
    "negative_df[\"annotation_list\"] = [[x] for x in negative_df[\"annotation\"]]"
   ]
  },
  {
   "cell_type": "code",
   "execution_count": null,
   "id": "16b2db12",
   "metadata": {},
   "outputs": [],
   "source": [
    "# show columns and sample rows\n",
    "print(negative_df.columns.tolist())\n",
    "display(negative_df.head())"
   ]
  },
  {
   "cell_type": "code",
   "execution_count": null,
   "id": "4f104245",
   "metadata": {},
   "outputs": [],
   "source": [
    "target_df.head(5)"
   ]
  },
  {
   "cell_type": "code",
   "execution_count": null,
   "id": "486eb1e8",
   "metadata": {},
   "outputs": [],
   "source": [
    "negative_df.to_csv('jects/blra/training_data//home/brg226/pronegative_samples.csv', index=False)"
   ]
  },
  {
   "cell_type": "code",
   "execution_count": null,
   "id": "f3fe9566",
   "metadata": {},
   "outputs": [],
   "source": [
    "# generate multi-hot encoded dataframe for classifier training\n",
    "multihot_labels_sparse, classes = annotations.categorical_to_multi_hot(\n",
    "    negative_df[\"annotation_list\"], sparse=True\n",
    ")\n",
    "ebird_classes = [\n",
    "    t.info.features[\"ebird_code_multilabel\"].feature.int2str(c) for c in classes\n",
    "]\n",
    "labels = pd.DataFrame.sparse.from_spmatrix(\n",
    "    multihot_labels_sparse,\n",
    "    index=pd.MultiIndex.from_frame(negative_df[[\"file\", \"start_time\"]]),\n",
    "    columns=ebird_classes,\n",
    ")\n",
    "# save pickle file\n",
    "labels.to_pickle(f\"/home/brg226/projects/blra/training_data/negative_multihot_labels.pkl\")\n",
    "\n"
   ]
  },
  {
   "cell_type": "code",
   "execution_count": null,
   "id": "71be7a09",
   "metadata": {},
   "outputs": [],
   "source": [
    "labels.head()"
   ]
  }
 ],
 "metadata": {
  "kernelspec": {
   "display_name": "opso12",
   "language": "python",
   "name": "python3"
  },
  "language_info": {
   "codemirror_mode": {
    "name": "ipython",
    "version": 3
   },
   "file_extension": ".py",
   "mimetype": "text/x-python",
   "name": "python",
   "nbconvert_exporter": "python",
   "pygments_lexer": "ipython3",
   "version": "3.11.14"
  }
 },
 "nbformat": 4,
 "nbformat_minor": 5
}
