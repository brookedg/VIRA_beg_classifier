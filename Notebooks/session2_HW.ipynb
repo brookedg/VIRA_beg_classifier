{
 "cells": [
  {
   "cell_type": "markdown",
   "id": "580c9ffb",
   "metadata": {},
   "source": [
    "Session 2: Exploring the properties of your acoustic signal\n",
    "Before class assignment: \n",
    "\n",
    "Create a Python notebook in which you:\n",
    "-Load audio files with the opensoundscape.Audio class, selecting a few seconds of audio containing the target sound\n",
    "-Create Audio widgets for playback\n",
    "-Display spectrograms of the target sound using the opensoundscape.Spectrogram class\n",
    "-Compare visualizations of the sound when varying the spectrogram creation parameters, especially the window_samples argument (e.g. what does the spectrogram of the target sound look like with window_samples=256 vs 1024?)\n",
    "-Compare spectrograms and audio of the target sound with the confusion sounds\n",
    "-Additionally visualize a few randomly selected files from your field data. What properties of the field audio data do you notice? Are these files different from or similar to your annotated data? Write these observations and reflections directly into your Python notebook in a markdown cell. \n",
    "-Add your notebook to your GitHub repository in a “notebooks/” subfolder. Use “Session2…” as the beginning of the file name. Write brief descriptions of each new file in your readme.md file. \n"
   ]
  },
  {
   "cell_type": "code",
   "execution_count": null,
   "id": "a1104654",
   "metadata": {},
   "outputs": [],
   "source": [
    "#OPSO & general imports \n",
    "from opensoundscape import Audio, Spectrogram\n",
    "from opensoundscape.annotations import BoxedAnnotations\n",
    "\n",
    "# General-purpose packages\n",
    "import numpy as np\n",
    "import pandas as pd\n",
    "from glob import glob\n",
    "from pathlib import Path\n",
    "\n",
    "from matplotlib import pyplot as plt\n",
    "plt.rcParams['figure.figsize']=[15,5] #for big visuals\n",
    "%config InlineBackend.figure_format = 'retina'"
   ]
  },
  {
   "cell_type": "code",
   "execution_count": null,
   "id": "a9108d97",
   "metadata": {},
   "outputs": [],
   "source": [
    "# Load audio files with the opensoundscape.Audio class, selecting a few seconds of audio containing the target sound\n",
    "audio_file = \"/home/brg226/projects/rloc/VIRA_beg/raven_annotations/31493211.wav\"\n",
    "annotation_file = \"/home/brg226/projects/rloc/VIRA_beg/raven_annotations/31493211.Table.1.selections.txt\""
   ]
  },
  {
   "cell_type": "code",
   "execution_count": null,
   "id": "37b9406b",
   "metadata": {},
   "outputs": [],
   "source": [
    "# Let’s look at a spectrogram of the audio file to see what we’re working with.\n",
    "Spectrogram.from_audio(Audio.from_file(audio_file)).plot()"
   ]
  },
  {
   "cell_type": "code",
   "execution_count": null,
   "id": "bd486487",
   "metadata": {},
   "outputs": [],
   "source": [
    "#  from_raven_files() method expects annotation files and audio files each in their own list–you cannot pass a single annotation file. So, wrap the filenames in lists:\n",
    "annot_list = [annotation_file]\n",
    "audio_list = [audio_file]"
   ]
  },
  {
   "cell_type": "code",
   "execution_count": null,
   "id": "7f9f657c",
   "metadata": {},
   "outputs": [],
   "source": [
    "# Create an object from Raven file\n",
    "annotations = BoxedAnnotations.from_raven_files(\n",
    "    raven_files=annot_list,\n",
    "    audio_files=audio_list,\n",
    "    annotation_column=None,  # Put None if you don't have an annotation column\n",
    ")\n",
    "\n",
    "# Inspect the object's .df attribute\n",
    "# which contains the table of annotations\n",
    "annotations.df.head()"
   ]
  },
  {
   "cell_type": "markdown",
   "id": "8e30c9ff",
   "metadata": {},
   "source": [
    "Load multiple Raven annotation tables"
   ]
  },
  {
   "cell_type": "code",
   "execution_count": null,
   "id": "5e0d818c",
   "metadata": {},
   "outputs": [],
   "source": [
    "# Set the current directory to where the dataset is downloaded\n",
    "\n",
    "dataset_path = Path(\"/home/brg226/projects/rloc/VIRA_beg/raven_annotations/\")"
   ]
  },
  {
   "cell_type": "code",
   "execution_count": null,
   "id": "65cde2c4",
   "metadata": {},
   "outputs": [],
   "source": [
    "# Make a list of all of the selection table files\n",
    "selections = glob(f\"{dataset_path}/*.txt\")"
   ]
  },
  {
   "cell_type": "code",
   "execution_count": null,
   "id": "12274f2b",
   "metadata": {},
   "outputs": [],
   "source": [
    "# create a list of audio files, one corresponding to each Raven file\n",
    "# (Audio files have the same names as selection files with a different extension)\n",
    "audio_files = [\n",
    "    f.replace(\"Annotation_Files\", \"Recordings\").replace(\n",
    "        \".Table.1.selections.txt\", \".wav\"\n",
    "    )\n",
    "    for f in selections\n",
    "]"
   ]
  },
  {
   "cell_type": "code",
   "execution_count": null,
   "id": "10feed26",
   "metadata": {},
   "outputs": [],
   "source": [
    "all_annotations = BoxedAnnotations.from_raven_files(\n",
    "    selections, annotation_column=None, audio_files=audio_files\n",
    ")\n",
    "all_annotations.df.head(15)"
   ]
  },
  {
   "cell_type": "markdown",
   "id": "843fe309",
   "metadata": {},
   "source": [
    "Mess around w/ audio visualization of training data"
   ]
  },
  {
   "cell_type": "code",
   "execution_count": null,
   "id": "92795c89",
   "metadata": {},
   "outputs": [],
   "source": [
    "audio_object = Audio.from_file('/home/brg226/projects/rloc/VIRA_beg/raven_annotations/31493211.wav')\n",
    "audio_object"
   ]
  },
  {
   "cell_type": "code",
   "execution_count": null,
   "id": "44f43456",
   "metadata": {},
   "outputs": [],
   "source": [
    "spectrogram_object = Spectrogram.from_audio(audio_object)\n",
    "spectrogram_object.plot()"
   ]
  },
  {
   "cell_type": "code",
   "execution_count": null,
   "id": "fdf84fdd",
   "metadata": {},
   "outputs": [],
   "source": [
    "# View the documentation about this method\n",
    "Spectrogram.from_audio?"
   ]
  },
  {
   "cell_type": "code",
   "execution_count": null,
   "id": "a97791c0",
   "metadata": {},
   "outputs": [],
   "source": [
    "audio = audio_object.resample(22000).trim(0, 5)\n",
    "\n",
    "spec = Spectrogram.from_audio(audio, window_samples=55, overlap_samples=0)\n",
    "spec.plot()"
   ]
  },
  {
   "cell_type": "code",
   "execution_count": null,
   "id": "aad7fc69",
   "metadata": {},
   "outputs": [],
   "source": [
    "spec = Spectrogram.from_audio(audio, window_samples=256, overlap_samples=0)\n",
    "spec.plot()"
   ]
  },
  {
   "cell_type": "code",
   "execution_count": null,
   "id": "f72b9562",
   "metadata": {},
   "outputs": [],
   "source": [
    "spec2 = Spectrogram.from_audio(audio, window_samples=1064, overlap_samples=0)\n",
    "spec2.plot()"
   ]
  },
  {
   "cell_type": "code",
   "execution_count": null,
   "id": "0684c6b2",
   "metadata": {},
   "outputs": [],
   "source": [
    "from opensoundscape.spectrogram import MelSpectrogram\n",
    "melspec = MelSpectrogram.from_audio(\n",
    "    audio_object.trim(24, 30), window_samples=2048, n_mels=400\n",
    ")\n",
    "from matplotlib import pyplot as plt\n",
    "\n",
    "melspec.plot()"
   ]
  },
  {
   "cell_type": "markdown",
   "id": "957fb2c4",
   "metadata": {},
   "source": [
    "Visualize confusion sp."
   ]
  },
  {
   "cell_type": "code",
   "execution_count": null,
   "id": "848ef34a",
   "metadata": {},
   "outputs": [],
   "source": [
    "BLJA_object = Audio.from_file('/home/brg226/projects/rloc/VIRA_beg/raven_annotations/confusion_sp/XC1036141 - Blue Jay - Cyanocitta cristata.mp3')\n",
    "RWBL_object = Audio.from_file('/home/brg226/projects/rloc/VIRA_beg/raven_annotations/confusion_sp/XC1004470 - Red-winged Blackbird - Agelaius phoeniceus.mp3')\n",
    "BCCH_object = Audio.from_file('/home/brg226/projects/rloc/VIRA_beg/raven_annotations/confusion_sp/XC335758 - Black-capped Chickadee - Poecile atricapillus.mp3')"
   ]
  },
  {
   "cell_type": "code",
   "execution_count": null,
   "id": "456f7126",
   "metadata": {},
   "outputs": [],
   "source": [
    "spectrogram_object = Spectrogram.from_audio(BLJA_object.trim(0,10))\n",
    "spectrogram_object.plot()"
   ]
  },
  {
   "cell_type": "code",
   "execution_count": null,
   "id": "a013749d",
   "metadata": {},
   "outputs": [],
   "source": [
    "spectrogram_object = Spectrogram.from_audio(RWBL_object.trim(0,10))\n",
    "spectrogram_object.plot()"
   ]
  },
  {
   "cell_type": "code",
   "execution_count": null,
   "id": "50e41eb9",
   "metadata": {},
   "outputs": [],
   "source": [
    "spectrogram_object = Spectrogram.from_audio(BCCH_object.trim(0,10))\n",
    "spectrogram_object.plot()"
   ]
  },
  {
   "cell_type": "markdown",
   "id": "d97e846b",
   "metadata": {},
   "source": [
    "Explore field data"
   ]
  },
  {
   "cell_type": "code",
   "execution_count": null,
   "id": "24d585a3",
   "metadata": {},
   "outputs": [],
   "source": [
    "field_audio_object = Audio.from_file('/home/brg226/projects/rloc/datasets/rloc2024a_sync/MSD-0382/20240515_000000.WAV')\n",
    "field_audio_object"
   ]
  },
  {
   "cell_type": "code",
   "execution_count": null,
   "id": "4a25eff3",
   "metadata": {},
   "outputs": [],
   "source": [
    "spectrogram_object = Spectrogram.from_audio(field_audio_object)\n",
    "spectrogram_object.plot()"
   ]
  },
  {
   "cell_type": "code",
   "execution_count": null,
   "id": "3209dbba",
   "metadata": {},
   "outputs": [],
   "source": [
    "from opensoundscape.spectrogram import MelSpectrogram\n",
    "melspec = MelSpectrogram.from_audio(\n",
    "    field_audio_object.trim(0, 40), window_samples=2048, n_mels=400\n",
    ")\n",
    "from matplotlib import pyplot as plt\n",
    "\n",
    "melspec.plot()"
   ]
  },
  {
   "cell_type": "markdown",
   "id": "5e6ebc15",
   "metadata": {},
   "source": [
    "Field data looks very simialr to training data, besides some weird band of mechanical noise @ 100 hZ in field data. The field data has more species than the target recordings of target and confusion species."
   ]
  }
 ],
 "metadata": {
  "kernelspec": {
   "display_name": "opso12.1",
   "language": "python",
   "name": "python3"
  },
  "language_info": {
   "codemirror_mode": {
    "name": "ipython",
    "version": 3
   },
   "file_extension": ".py",
   "mimetype": "text/x-python",
   "name": "python",
   "nbconvert_exporter": "python",
   "pygments_lexer": "ipython3",
   "version": "3.11.13"
  }
 },
 "nbformat": 4,
 "nbformat_minor": 5
}
